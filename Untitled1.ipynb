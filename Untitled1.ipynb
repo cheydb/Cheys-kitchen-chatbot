{
  "nbformat": 4,
  "nbformat_minor": 0,
  "metadata": {
    "colab": {
      "name": "Untitled1.ipynb",
      "provenance": [],
      "authorship_tag": "ABX9TyM7yVXQRNqXCb+Ntl2SxZrq",
      "include_colab_link": true
    },
    "kernelspec": {
      "name": "python3",
      "display_name": "Python 3"
    },
    "language_info": {
      "name": "python"
    }
  },
  "cells": [
    {
      "cell_type": "markdown",
      "metadata": {
        "id": "view-in-github",
        "colab_type": "text"
      },
      "source": [
        "<a href=\"https://colab.research.google.com/github/cheydb/Cheys-kitchen-chatbot/blob/main/Untitled1.ipynb\" target=\"_parent\"><img src=\"https://colab.research.google.com/assets/colab-badge.svg\" alt=\"Open In Colab\"/></a>"
      ]
    },
    {
      "cell_type": "code",
      "execution_count": 1,
      "metadata": {
        "colab": {
          "base_uri": "https://localhost:8080/"
        },
        "id": "ZUBkmgvGqP6W",
        "outputId": "6504b468-1e86-44ca-b768-c2eb55e3e6a6"
      },
      "outputs": [
        {
          "output_type": "stream",
          "name": "stdout",
          "text": [
            "Hello, welcome to Chey's Kitchen!\n",
            "What is your name?\n",
            "Mom\n",
            "Hello, Mom! It's nice to see you\n",
            "\n",
            " What can I get you? Today's specials are burgers, chips, pizza, and milkshake,\n",
            "pizza\n",
            "okay, your pizza is coming right up\n",
            "how many would you like? \n",
            "3\n",
            "Okay, your total is R75\n"
          ]
        }
      ],
      "source": [
        "print(\"Hello, welcome to Chey's Kitchen!\")\n",
        "name = input(\"What is your name?\\n\")\n",
        "\n",
        "#if name == \"Bob\":\n",
        "#  evil_status = input(\"Are you evil?\\n\")\n",
        "#  if evil_status == \"Yes\":\n",
        "#    print(\"You're not welcome here, Evil Bob!\")\n",
        "#    exit()\n",
        "#  else:\n",
        "#    print(\"Great!\")\n",
        "#else:\n",
        "print(\"Hello, \" + name + \"! It's nice to see you\")\n",
        "    \n",
        "menu = \"burgers, chips, pizza, and milkshake,\"\n",
        "\n",
        "order = input(print(\"\\n What can I get you? Today's specials are \" + menu))\n",
        "\n",
        "print(\"okay, your \" + order + \" is coming right up\")\n",
        "\n",
        "if order == \"burger\":\n",
        "  price = 20\n",
        "elif order == \"chips\":\n",
        "  price = 10\n",
        "elif order == \"pizza\":\n",
        "  price = 25\n",
        "elif order == \"milkshake\":\n",
        "  price = 10\n",
        "\n",
        "num = input(print(\"how many would you like? \"))\n",
        "\n",
        "total = price * int(num)\n",
        "   \n",
        "print(\"Okay, your total is R\" + str(total))"
      ]
    }
  ]
}